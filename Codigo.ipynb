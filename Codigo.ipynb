{
 "cells": [
  {
   "cell_type": "code",
   "execution_count": 4,
   "metadata": {},
   "outputs": [
    {
     "name": "stdout",
     "output_type": "stream",
     "text": [
      "en orden de  ganar peso, su consumo diario de calorias deberia ser de 3758 !\n"
     ]
    }
   ],
   "source": [
    "#Primero la información necesaria para realizar la formula\n",
    "def usuario():\n",
    "    edad = int(input('Cual es su edad: '))\n",
    "    genero = input('Cual es su genero (hombre o mujer): ')\n",
    "    peso = int(input('Cuanto pesa en kg: '))\n",
    "    altura = int(input('Cual es su altura en cm: '))\n",
    "\n",
    "    if genero == 'hombre':\n",
    "        n1 = 66.5\n",
    "        p = 13.75 * peso\n",
    "        at = 5.003 * altura\n",
    "        e = 6.77 * edad\n",
    "    elif genero == 'mujer':\n",
    "        n1 = 655.1\n",
    "        p = 9.56 * peso\n",
    "        at = 1.85 * altura\n",
    "        e = 4.68 * edad\n",
    "\n",
    "    #GEB mujer= 665.1 + (9.56 x p) + (1.85 x cm) – (4.7 x anios) + actividad\n",
    "    #GEB hombre = 66.5 + (13.75 x p) + (5.003 x cm) - (6.77 x anios) + actividad\n",
    "    GEB_resultado = n1 + at + p - e\n",
    "    return(int(GEB_resultado))\n",
    "\n",
    "def calcular_actividad(GEB_resultado): \n",
    "    actividad_nivel = input('Cual es su actividad normalmente (liviano, moderado, pesado, o extremo): ')\n",
    "\n",
    "    if actividad_nivel == 'liviano':\n",
    "        actividad_nivel = (30 * GEB_resultado /100) + GEB_resultado\n",
    "    elif actividad_nivel == 'moderado':\n",
    "        actividad_nivel = (50 * GEB_resultado /100) + GEB_resultado\n",
    "    elif actividad_nivel == 'pesado':\n",
    "        actividad_nivel = (75 * GEB_resultado /100) + GEB_resultado\n",
    "    elif actividad_nivel == 'extremo':\n",
    "        actividad_nivel = (100 * GEB_resultado /100) + GEB_resultado\n",
    "\n",
    "    return(int(actividad_nivel))\n",
    "\n",
    "# Lo mas saludable a la hora de perder o ganar peso, se recomienda que sean 500kcal por dia. \n",
    "def ganar_o_perder(actividad_nivel):\n",
    "    meta = input('Quiere perder, mantener, o ganar peso: ')\n",
    "\n",
    "    if meta == 'perder':\n",
    "        kcal = actividad_nivel - 500\n",
    "    elif meta == 'mantener':\n",
    "        kcal = actividad_nivel\n",
    "    elif meta == 'ganar':\n",
    "        ganar_peso = int(input('''Ganar 500 gr o 1 kg por semana?/n\n",
    "Si elige 500 gr escriba 1 \n",
    "Si elige 1 kg escriba 2 '''))\n",
    "        if ganar_peso == 1: \n",
    "            kcal = actividad_nivel + 500\n",
    "        elif ganar_peso == 2:\n",
    "            kcal = actividad_nivel + 1000\n",
    "\n",
    "    print('en orden de ', meta, 'peso, su consumo diario de calorias deberia ser de', int(kcal), '!')\n",
    "\n",
    "\n",
    "ganar_o_perder(calcular_actividad(usuario()))"
   ]
  },
  {
   "cell_type": "code",
   "execution_count": null,
   "metadata": {},
   "outputs": [],
   "source": []
  }
 ],
 "metadata": {
  "kernelspec": {
   "display_name": "Python 3",
   "language": "python",
   "name": "python3"
  },
  "language_info": {
   "codemirror_mode": {
    "name": "ipython",
    "version": 3
   },
   "file_extension": ".py",
   "mimetype": "text/x-python",
   "name": "python",
   "nbconvert_exporter": "python",
   "pygments_lexer": "ipython3",
   "version": "3.10.7"
  },
  "orig_nbformat": 4
 },
 "nbformat": 4,
 "nbformat_minor": 2
}
