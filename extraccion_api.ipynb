{
 "cells": [
  {
   "cell_type": "code",
   "execution_count": 13,
   "metadata": {},
   "outputs": [
    {
     "name": "stdout",
     "output_type": "stream",
     "text": [
      "Strawberry Vodka\n",
      "http://www.davidlebovitz.com/strawberry-vodka-recipe-infusion/\n",
      "Calorías: 1857\n",
      "\n",
      "Easy Mango-Blackberry Smoothie Recipe\n",
      "http://www.seriouseats.com/recipes/2014/01/easy-mango-blackberry-kefir-smoothie-recipe.html\n",
      "Calorías: 274\n",
      "\n",
      "Maple Banana Frozen Yogurt\n",
      "http://norecipes.com/blog/2008/04/26/maple-banana-frozen-yogurt/\n",
      "Calorías: 494\n",
      "\n",
      "Vanilla Ice Cream With Grilled Corn And Lime\n",
      "http://ruhlman.com/2011/07/how-to-grill-corn/\n",
      "Calorías: 332\n",
      "\n",
      "Roasted Strawberry Milkshake recipes\n",
      "http://notwithoutsalt.com/roasted-strawberry-milkshake/\n",
      "Calorías: 629\n",
      "\n",
      "Fresh Lemon Syrup Recipe\n",
      "http://www.seriouseats.com/recipes/2016/03/fresh-lemon-syrup-recipe.html\n",
      "Calorías: 967\n",
      "\n",
      "Beer Vinegar\n",
      "http://ruhlman.com/2011/08/beer-vinegar-recipe/\n",
      "Calorías: 817\n",
      "\n",
      "Watermelon And Peach Fresh Fruit Cake\n",
      "http://notwithoutsalt.com/2014/05/30/watermelon-peach-fresh-fruit-cake/\n",
      "Calorías: 1250\n",
      "\n",
      "Imperial Royale Recipe\n",
      "http://www.seriouseats.com/recipes/2014/05/imperial-royale-bud-light-lime-st-germain-shandy-cocktail-recipe.html\n",
      "Calorías: 292\n",
      "\n",
      "The Rusty Nail\n",
      "http://ruhlman.com/2013/12/friday-cocktail-hour-rusty-nail/\n",
      "Calorías: 223\n",
      "\n"
     ]
    }
   ],
   "source": [
    "import requests\n",
    "\n",
    "# Define las credenciales de tu aplicación\n",
    "app_id = \"f182b65b\"\n",
    "app_key = \"4c99e07cbb4dfe20271a64d6c2981446\"\n",
    "\n",
    "# Define los parámetros de la consulta\n",
    "calories = \"100-500\"  # cantidad de calorías que queremos que tenga cada porción\n",
    "\n",
    "# Define la URL de la API y construye la solicitud HTTP\n",
    "url = f\"https://api.edamam.com/search?q=&app_id={app_id}&app_key={app_key}&calories={calories}\"\n",
    "response = requests.get(url)\n",
    "\n",
    "# Procesa la respuesta de la API en formato JSON\n",
    "data = response.json()\n",
    "\n",
    "# Imprime los resultados (nombre y URL)\n",
    "for recipe in data[\"hits\"]:\n",
    "    print(recipe[\"recipe\"][\"label\"])\n",
    "    print(recipe[\"recipe\"][\"url\"])\n",
    "    print(f\"Calorías: {int(recipe['recipe']['calories'])}\")\n",
    "    print()"
   ]
  },
  {
   "cell_type": "code",
   "execution_count": null,
   "metadata": {},
   "outputs": [],
   "source": []
  }
 ],
 "metadata": {
  "kernelspec": {
   "display_name": "Python 3",
   "language": "python",
   "name": "python3"
  },
  "language_info": {
   "codemirror_mode": {
    "name": "ipython",
    "version": 3
   },
   "file_extension": ".py",
   "mimetype": "text/x-python",
   "name": "python",
   "nbconvert_exporter": "python",
   "pygments_lexer": "ipython3",
   "version": "3.10.7"
  },
  "orig_nbformat": 4
 },
 "nbformat": 4,
 "nbformat_minor": 2
}
