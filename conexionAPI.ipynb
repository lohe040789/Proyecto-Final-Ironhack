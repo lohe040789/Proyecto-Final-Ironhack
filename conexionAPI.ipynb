{
 "cells": [
  {
   "cell_type": "code",
   "execution_count": 11,
   "metadata": {},
   "outputs": [
    {
     "name": "stdout",
     "output_type": "stream",
     "text": [
      "Habanero Tequila Recipe\n",
      "Peach Butter\n",
      "Ultimate Chickpea Noodle Soup recipes\n",
      "Coconut Date Shake recipes\n",
      "Cranberry Sorbet\n",
      "Scamper Juice (Party Punch)\n",
      "Creamy Ramp Pesto\n",
      "Pear-Infused Vodka\n",
      "Summer fruits jam\n",
      "Rose-Petal Syrup\n"
     ]
    }
   ],
   "source": [
    "import requests\n",
    "\n",
    "# Define las credenciales de tu aplicación\n",
    "app_id = \"f182b65b\"\n",
    "app_key = \"4c99e07cbb4dfe20271a64d6c2981446\"\n",
    "\n",
    "# Define los parámetros de la consulta\n",
    "calories = \"500-700\"  # cantidad de calorías que queremos que tenga cada porción\n",
    "health = \"vegan\" # filtro para que solo nos muestre recetas veganas\n",
    "\n",
    "# Define la URL de la API y construye la solicitud HTTP\n",
    "url = f\"https://api.edamam.com/search?q=&app_id={app_id}&app_key={app_key}&calories={calories}&health={health}\"\n",
    "response = requests.get(url)\n",
    "\n",
    "# Procesa la respuesta de la API en formato JSON\n",
    "data = response.json()\n",
    "\n",
    "# Imprime los resultados\n",
    "for recipe in data[\"hits\"]:\n",
    "    print(recipe[\"recipe\"][\"label\"])"
   ]
  },
  {
   "cell_type": "code",
   "execution_count": 1,
   "metadata": {},
   "outputs": [
    {
     "name": "stdout",
     "output_type": "stream",
     "text": [
      "Total de calorías: 14535.275597027618\n",
      "Habanero Tequila Recipe: 5 porciones\n",
      "Peach Butter: 5 porciones\n",
      "Ultimate Chickpea Noodle Soup recipes: 4 porciones\n",
      "Coconut Date Shake recipes: 5 porciones\n",
      "Cranberry Sorbet: 5 porciones\n"
     ]
    }
   ],
   "source": [
    "import requests\n",
    "\n",
    "# Define las credenciales de tu aplicación\n",
    "app_id = \"f182b65b\"\n",
    "app_key = \"4c99e07cbb4dfe20271a64d6c2981446\"\n",
    "\n",
    "# Define los parámetros de la consulta\n",
    "calories = \"500-700\"  # cantidad de calorías que queremos que tenga cada porción\n",
    "health = \"vegan\" # filtro para que solo nos muestre recetas veganas\n",
    "from_number = \"0\" # para obtener solo las primeras 5 recetas\n",
    "\n",
    "# Define la URL de la API y construye la solicitud HTTP\n",
    "url = f\"https://api.edamam.com/search?q=&app_id={app_id}&app_key={app_key}&calories={calories}&health={health}&from={from_number}&to=5\"\n",
    "response = requests.get(url)\n",
    "\n",
    "# Procesa la respuesta de la API en formato JSON\n",
    "data = response.json()\n",
    "\n",
    "# Calcula la cantidad de calorías por porción de cada receta\n",
    "recipes = []\n",
    "for recipe in data[\"hits\"]:\n",
    "    # Obtiene el número de porciones de la receta\n",
    "    servings = recipe[\"recipe\"][\"yield\"]\n",
    "    # Obtiene la cantidad de calorías por porción de la receta\n",
    "    calories_per_serving = recipe[\"recipe\"][\"calories\"] / servings\n",
    "    # Guarda la información en un diccionario\n",
    "    recipes.append({\"name\": recipe[\"recipe\"][\"label\"], \"calories_per_serving\": calories_per_serving})\n",
    "\n",
    "# Selecciona las porciones adecuadas de cada receta para alcanzar un total de 3000 calorías\n",
    "total_calories = 0\n",
    "selected_servings = []\n",
    "for recipe in recipes:\n",
    "    servings = int(round(3000 / recipe[\"calories_per_serving\"]))\n",
    "    selected_servings.append({\"name\": recipe[\"name\"], \"servings\": servings})\n",
    "    total_calories += servings * recipe[\"calories_per_serving\"]\n",
    "\n",
    "# Imprime los resultados\n",
    "print(f\"Total de calorías: {total_calories}\")\n",
    "for servings in selected_servings:\n",
    "    print(f\"{servings['name']}: {servings['servings']} porciones\")"
   ]
  },
  {
   "cell_type": "code",
   "execution_count": 2,
   "metadata": {},
   "outputs": [
    {
     "name": "stdout",
     "output_type": "stream",
     "text": [
      "Total de calorías: 14535.275597027618\n",
      "Habanero Tequila Recipe: 5 porciones (http://www.seriouseats.com/recipes/2012/08/homemade-spicy-tequila-habanero-tequila-recipe.html)\n",
      "Peach Butter: 5 porciones (http://smittenkitchen.com/2011/09/peach-butter/)\n",
      "Ultimate Chickpea Noodle Soup recipes: 4 porciones (http://www.101cookbooks.com/archives/001540.html)\n",
      "Coconut Date Shake recipes: 5 porciones (http://notwithoutsalt.com/2014/05/13/coconut-date-shake/)\n",
      "Cranberry Sorbet: 5 porciones (http://www.davidlebovitz.com/2010/12/cranberry-sorbet-recipe/)\n"
     ]
    }
   ],
   "source": [
    "import requests\n",
    "\n",
    "# Define las credenciales de tu aplicación\n",
    "app_id = \"f182b65b\"\n",
    "app_key = \"4c99e07cbb4dfe20271a64d6c2981446\"\n",
    "\n",
    "# Define los parámetros de la consulta\n",
    "calories = \"500-700\"  # cantidad de calorías que queremos que tenga cada porción\n",
    "health = \"vegan\" # filtro para que solo nos muestre recetas veganas\n",
    "from_number = \"0\" # para obtener solo las primeras 5 recetas\n",
    "\n",
    "# Define la URL de la API y construye la solicitud HTTP\n",
    "url = f\"https://api.edamam.com/search?q=&app_id={app_id}&app_key={app_key}&calories={calories}&health={health}&from={from_number}&to=5\"\n",
    "response = requests.get(url)\n",
    "\n",
    "# Procesa la respuesta de la API en formato JSON\n",
    "data = response.json()\n",
    "\n",
    "# Calcula la cantidad de calorías por porción de cada receta y obtiene la URL de la receta\n",
    "recipes = []\n",
    "for recipe in data[\"hits\"]:\n",
    "    # Obtiene el número de porciones de la receta\n",
    "    servings = recipe[\"recipe\"][\"yield\"]\n",
    "    # Obtiene la cantidad de calorías por porción de la receta\n",
    "    calories_per_serving = recipe[\"recipe\"][\"calories\"] / servings\n",
    "    # Obtiene la URL de la receta\n",
    "    url = recipe[\"recipe\"][\"url\"]\n",
    "    # Guarda la información en un diccionario\n",
    "    recipes.append({\"name\": recipe[\"recipe\"][\"label\"], \"calories_per_serving\": calories_per_serving, \"url\": url})\n",
    "\n",
    "# Selecciona las porciones adecuadas de cada receta para alcanzar un total de 3000 calorías\n",
    "total_calories = 0\n",
    "selected_servings = []\n",
    "for recipe in recipes:\n",
    "    servings = int(round(3000 / recipe[\"calories_per_serving\"]))\n",
    "    selected_servings.append({\"name\": recipe[\"name\"], \"servings\": servings, \"url\": recipe[\"url\"]})\n",
    "    total_calories += servings * recipe[\"calories_per_serving\"]\n",
    "\n",
    "# Imprime los resultados\n",
    "print(f\"Total de calorías: {total_calories}\")\n",
    "for servings in selected_servings:\n",
    "    print(f\"{servings['name']}: {servings['servings']} porciones ({servings['url']})\")"
   ]
  },
  {
   "cell_type": "code",
   "execution_count": 10,
   "metadata": {},
   "outputs": [
    {
     "ename": "TypeError",
     "evalue": "string indices must be integers",
     "output_type": "error",
     "traceback": [
      "\u001b[1;31m---------------------------------------------------------------------------\u001b[0m",
      "\u001b[1;31mTypeError\u001b[0m                                 Traceback (most recent call last)",
      "\u001b[1;32mc:\\Users\\Carolina\\Ironhack\\Proyectos\\Proyecto-Final-Ironhack\\conexionAPI.ipynb Celda 4\u001b[0m in \u001b[0;36m2\n\u001b[0;32m     <a href='vscode-notebook-cell:/c%3A/Users/Carolina/Ironhack/Proyectos/Proyecto-Final-Ironhack/conexionAPI.ipynb#W3sZmlsZQ%3D%3D?line=22'>23</a>\u001b[0m data \u001b[39m=\u001b[39m response\u001b[39m.\u001b[39mjson()\n\u001b[0;32m     <a href='vscode-notebook-cell:/c%3A/Users/Carolina/Ironhack/Proyectos/Proyecto-Final-Ironhack/conexionAPI.ipynb#W3sZmlsZQ%3D%3D?line=24'>25</a>\u001b[0m \u001b[39m# Iterar sobre las recetas y mostrar sus URLs\u001b[39;00m\n\u001b[1;32m---> <a href='vscode-notebook-cell:/c%3A/Users/Carolina/Ironhack/Proyectos/Proyecto-Final-Ironhack/conexionAPI.ipynb#W3sZmlsZQ%3D%3D?line=25'>26</a>\u001b[0m \u001b[39mfor\u001b[39;00m recipe \u001b[39min\u001b[39;00m data[\u001b[39m'\u001b[39m\u001b[39mhits\u001b[39m\u001b[39m'\u001b[39m]:\n\u001b[0;32m     <a href='vscode-notebook-cell:/c%3A/Users/Carolina/Ironhack/Proyectos/Proyecto-Final-Ironhack/conexionAPI.ipynb#W3sZmlsZQ%3D%3D?line=26'>27</a>\u001b[0m     \u001b[39mprint\u001b[39m(\u001b[39m'\u001b[39m\u001b[39mNombre de la receta:\u001b[39m\u001b[39m'\u001b[39m, recipe[\u001b[39m'\u001b[39m\u001b[39mrecipe\u001b[39m\u001b[39m'\u001b[39m][\u001b[39m'\u001b[39m\u001b[39mlabel\u001b[39m\u001b[39m'\u001b[39m])\n\u001b[0;32m     <a href='vscode-notebook-cell:/c%3A/Users/Carolina/Ironhack/Proyectos/Proyecto-Final-Ironhack/conexionAPI.ipynb#W3sZmlsZQ%3D%3D?line=27'>28</a>\u001b[0m     \u001b[39mprint\u001b[39m(\u001b[39m'\u001b[39m\u001b[39mIngredientes:\u001b[39m\u001b[39m'\u001b[39m)\n",
      "\u001b[1;31mTypeError\u001b[0m: string indices must be integers"
     ]
    }
   ],
   "source": [
    "import requests\n",
    "\n",
    "# Reemplaza con tus propias credenciales de API\n",
    "APP_ID = 'f182b65b'\n",
    "APP_KEY = '4c99e07cbb4dfe20271a64d6c2981446'\n",
    "\n",
    "# URL base del endpoint de búsqueda de recetas de Edamam\n",
    "url = 'https://api.edamam.com/search'\n",
    "\n",
    "# Parámetros de la solicitud\n",
    "params = {\n",
    "    'q': '',\n",
    "    'calories': '3000',\n",
    "    'app_id': APP_ID,\n",
    "    'app_key': APP_KEY,\n",
    "    'to': '5',\n",
    "    'mealType': ['breakfast', 'lunch', 'dinner', 'snack'],\n",
    "    'health':''\n",
    "}\n",
    "\n",
    "# Realizar la solicitud y obtener la respuesta JSON\n",
    "response = requests.get(url, params=params)\n",
    "data = response.json()\n",
    "\n",
    "# Iterar sobre las recetas y mostrar sus URLs\n",
    "for recipe in data['hits']:\n",
    "    print('Nombre de la receta:', recipe['recipe']['label'])\n",
    "    print('Ingredientes:')\n",
    "    for ingredient in recipe['recipe']['ingredientLines']:\n",
    "        print('-', ingredient)\n",
    "    print('URL:', recipe['recipe']['url'])\n",
    "    print('')"
   ]
  },
  {
   "cell_type": "code",
   "execution_count": null,
   "metadata": {},
   "outputs": [],
   "source": []
  }
 ],
 "metadata": {
  "kernelspec": {
   "display_name": "Python 3",
   "language": "python",
   "name": "python3"
  },
  "language_info": {
   "codemirror_mode": {
    "name": "ipython",
    "version": 3
   },
   "file_extension": ".py",
   "mimetype": "text/x-python",
   "name": "python",
   "nbconvert_exporter": "python",
   "pygments_lexer": "ipython3",
   "version": "3.10.7"
  },
  "orig_nbformat": 4
 },
 "nbformat": 4,
 "nbformat_minor": 2
}
