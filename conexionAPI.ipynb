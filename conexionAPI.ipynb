{
 "cells": [
  {
   "cell_type": "code",
   "execution_count": 1,
   "metadata": {},
   "outputs": [
    {
     "name": "stdout",
     "output_type": "stream",
     "text": [
      "Habanero Tequila Recipe\n",
      "Peach Butter\n",
      "Ultimate Chickpea Noodle Soup recipes\n",
      "Coconut Date Shake recipes\n",
      "Cranberry Sorbet\n",
      "Scamper Juice (Party Punch)\n",
      "Creamy Ramp Pesto\n",
      "Pear-Infused Vodka\n",
      "Summer fruits jam\n",
      "Rose-Petal Syrup\n"
     ]
    }
   ],
   "source": [
    "import requests\n",
    "\n",
    "# Define las credenciales de tu aplicación\n",
    "app_id = \"f182b65b\"\n",
    "app_key = \"4c99e07cbb4dfe20271a64d6c2981446\"\n",
    "\n",
    "# Define los parámetros de la consulta\n",
    "calories = \"500-700\"  # cantidad de calorías que queremos que tenga cada porción\n",
    "health = \"vegan\" # filtro para que solo nos muestre recetas veganas\n",
    "\n",
    "# Define la URL de la API y construye la solicitud HTTP\n",
    "url = f\"https://api.edamam.com/search?q=&app_id={app_id}&app_key={app_key}&calories={calories}&health={health}\"\n",
    "response = requests.get(url)\n",
    "\n",
    "# Procesa la respuesta de la API en formato JSON\n",
    "data = response.json()\n",
    "\n",
    "# Imprime los resultados\n",
    "for recipe in data[\"hits\"]:\n",
    "    print(recipe[\"recipe\"][\"label\"])"
   ]
  },
  {
   "cell_type": "code",
   "execution_count": null,
   "metadata": {},
   "outputs": [],
   "source": []
  }
 ],
 "metadata": {
  "kernelspec": {
   "display_name": "Python 3",
   "language": "python",
   "name": "python3"
  },
  "language_info": {
   "codemirror_mode": {
    "name": "ipython",
    "version": 3
   },
   "file_extension": ".py",
   "mimetype": "text/x-python",
   "name": "python",
   "nbconvert_exporter": "python",
   "pygments_lexer": "ipython3",
   "version": "3.10.7"
  },
  "orig_nbformat": 4
 },
 "nbformat": 4,
 "nbformat_minor": 2
}
